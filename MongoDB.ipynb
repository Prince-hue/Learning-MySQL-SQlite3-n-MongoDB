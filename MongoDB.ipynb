{
 "cells": [
  {
   "cell_type": "markdown",
   "metadata": {},
   "source": [
    "# MongoDB\n",
    "\n",
    "1. NoSQL database\n",
    "2. Stores data in JSON-like documents\n",
    "3. Popular, flexible and scalable\n",
    "4. Uses collection instead of table\n",
    "5. Uses document instead of records\n",
    "6. Download is required\n",
    "7. !python -m pip install pymongo\n",
    "8. import pymongo "
   ]
  },
  {
   "cell_type": "markdown",
   "metadata": {},
   "source": [
    "https://www.mongodb.com/try/download/community"
   ]
  },
  {
   "cell_type": "code",
   "execution_count": 26,
   "metadata": {},
   "outputs": [],
   "source": [
    "import pymongo"
   ]
  },
  {
   "cell_type": "markdown",
   "metadata": {},
   "source": [
    "## Creating a connection"
   ]
  },
  {
   "cell_type": "code",
   "execution_count": 27,
   "metadata": {},
   "outputs": [],
   "source": [
    "#create a life server\n",
    "new_client = pymongo.MongoClient('mongodb://localhost:27017')\n",
    "\n",
    "#create a database called data_test\n",
    "new_db = new_client['data_test']\n",
    "\n",
    "#create a new column in the dataBase called student\n",
    "new_col = new_db['student']\n"
   ]
  },
  {
   "cell_type": "markdown",
   "metadata": {},
   "source": [
    "## Creating a dictionary"
   ]
  },
  {
   "cell_type": "code",
   "execution_count": 28,
   "metadata": {},
   "outputs": [],
   "source": [
    "#creating a dictionary\n",
    "#keyy is name and value is code\n",
    "new_dict = {'name' : 'Dony',\n",
    "            'code': 'code11'\n",
    "                }"
   ]
  },
  {
   "cell_type": "markdown",
   "metadata": {},
   "source": [
    "## Creating a document"
   ]
  },
  {
   "cell_type": "code",
   "execution_count": 29,
   "metadata": {},
   "outputs": [
    {
     "name": "stdout",
     "output_type": "stream",
     "text": [
      "<pymongo.results.InsertOneResult object at 0x00000233AF7EB3D0>\n"
     ]
    }
   ],
   "source": [
    "#creating a document instead of a record\n",
    "adding = new_col.insert_one(new_dict)\n",
    "print(adding)"
   ]
  },
  {
   "cell_type": "code",
   "execution_count": 30,
   "metadata": {},
   "outputs": [
    {
     "name": "stdout",
     "output_type": "stream",
     "text": [
      "64fa617ac82a94e0112264a2\n"
     ]
    }
   ],
   "source": [
    "#display the inserted id\n",
    "print(adding.inserted_id)"
   ]
  },
  {
   "cell_type": "markdown",
   "metadata": {},
   "source": [
    "## Creating many documents"
   ]
  },
  {
   "cell_type": "code",
   "execution_count": 31,
   "metadata": {},
   "outputs": [
    {
     "name": "stdout",
     "output_type": "stream",
     "text": [
      "[ObjectId('64fa617bc82a94e0112264a3'), ObjectId('64fa617bc82a94e0112264a4'), ObjectId('64fa617bc82a94e0112264a5'), ObjectId('64fa617bc82a94e0112264a6'), ObjectId('64fa617bc82a94e0112264a7'), ObjectId('64fa617bc82a94e0112264a8')]\n"
     ]
    }
   ],
   "source": [
    "#6 documents were created\n",
    "list_of_students = [\n",
    "    {'name': 'student00', 'code': 'code00'},\n",
    "    {'name': 'student01', 'code': 'code01'},\n",
    "    {'name': 'student02', 'code': 'code02'},\n",
    "    {'name': 'student03', 'code': 'code03'},\n",
    "    {'name': 'student04', 'code': 'code04'},\n",
    "    {'name': 'student05', 'code': 'code05'}\n",
    "]\n",
    "\n",
    "#inserting all 6 into into the dataBase\n",
    "adding_many = new_col.insert_many(list_of_students)\n",
    "\n",
    "#display the id number\n",
    "print(adding_many.inserted_ids)"
   ]
  },
  {
   "cell_type": "markdown",
   "metadata": {},
   "source": [
    "## Changing the id number"
   ]
  },
  {
   "cell_type": "code",
   "execution_count": 32,
   "metadata": {},
   "outputs": [
    {
     "name": "stdout",
     "output_type": "stream",
     "text": [
      "[1, 2, 3, 4, 5, 6]\n"
     ]
    }
   ],
   "source": [
    "#6 documents were created\n",
    "list_of_student = [\n",
    "    {'_id': 1, 'name': 'student00', 'code': 'code00'},\n",
    "    {'_id': 2, 'name': 'student01', 'code': 'code01'},\n",
    "    {'_id': 3, 'name': 'student02', 'code': 'code02'},\n",
    "    {'_id': 4, 'name': 'student03', 'code': 'code03'},\n",
    "    {'_id': 5, 'name': 'student04', 'code': 'code04'},\n",
    "    {'_id': 6, 'name': 'student05', 'code': 'code05'}\n",
    "]\n",
    "\n",
    "#inserting all 6 into into the dataBase\n",
    "adding_many = new_col.insert_many(list_of_student)\n",
    "\n",
    "#display the id number\n",
    "print(adding_many.inserted_ids)"
   ]
  },
  {
   "cell_type": "markdown",
   "metadata": {},
   "source": [
    "## Using 'find' to retrieve Docs"
   ]
  },
  {
   "cell_type": "code",
   "execution_count": 33,
   "metadata": {},
   "outputs": [
    {
     "name": "stdout",
     "output_type": "stream",
     "text": [
      "{'_id': ObjectId('64fa617ac82a94e0112264a2'), 'name': 'Dony', 'code': 'code11'}\n"
     ]
    }
   ],
   "source": [
    "#find_one returns the first document in the database\n",
    "finding = new_col.find_one()\n",
    "print(finding)"
   ]
  },
  {
   "cell_type": "code",
   "execution_count": 34,
   "metadata": {},
   "outputs": [
    {
     "name": "stdout",
     "output_type": "stream",
     "text": [
      "{'_id': ObjectId('64fa617ac82a94e0112264a2'), 'name': 'Dony', 'code': 'code11'}\n",
      "{'_id': ObjectId('64fa617bc82a94e0112264a3'), 'name': 'student00', 'code': 'code00'}\n",
      "{'_id': ObjectId('64fa617bc82a94e0112264a4'), 'name': 'student01', 'code': 'code01'}\n",
      "{'_id': ObjectId('64fa617bc82a94e0112264a5'), 'name': 'student02', 'code': 'code02'}\n",
      "{'_id': ObjectId('64fa617bc82a94e0112264a6'), 'name': 'student03', 'code': 'code03'}\n",
      "{'_id': ObjectId('64fa617bc82a94e0112264a7'), 'name': 'student04', 'code': 'code04'}\n",
      "{'_id': ObjectId('64fa617bc82a94e0112264a8'), 'name': 'student05', 'code': 'code05'}\n",
      "{'_id': 1, 'name': 'student00', 'code': 'code00'}\n",
      "{'_id': 2, 'name': 'student01', 'code': 'code01'}\n",
      "{'_id': 3, 'name': 'student02', 'code': 'code02'}\n",
      "{'_id': 4, 'name': 'student03', 'code': 'code03'}\n",
      "{'_id': 5, 'name': 'student04', 'code': 'code04'}\n",
      "{'_id': 6, 'name': 'student05', 'code': 'code05'}\n"
     ]
    }
   ],
   "source": [
    "#return more than one document\n",
    "for docu in new_col.find():\n",
    "    print(docu)"
   ]
  },
  {
   "cell_type": "markdown",
   "metadata": {},
   "source": [
    "## Filter"
   ]
  },
  {
   "cell_type": "code",
   "execution_count": 35,
   "metadata": {},
   "outputs": [
    {
     "name": "stdout",
     "output_type": "stream",
     "text": [
      "{'_id': ObjectId('64fa617bc82a94e0112264a5'), 'name': 'student02', 'code': 'code02'}\n",
      "{'_id': 3, 'name': 'student02', 'code': 'code02'}\n"
     ]
    }
   ],
   "source": [
    "new_query = {'code': 'code02'}\n",
    "new_doc = new_col.find(new_query)\n",
    "\n",
    "for x in new_doc:\n",
    "    print(x)"
   ]
  },
  {
   "cell_type": "code",
   "execution_count": 36,
   "metadata": {},
   "outputs": [
    {
     "name": "stdout",
     "output_type": "stream",
     "text": [
      "{'_id': ObjectId('64fa617ac82a94e0112264a2'), 'name': 'Dony', 'code': 'code11'}\n",
      "{'_id': ObjectId('64fa617bc82a94e0112264a3'), 'name': 'student00', 'code': 'code00'}\n",
      "{'_id': ObjectId('64fa617bc82a94e0112264a4'), 'name': 'student01', 'code': 'code01'}\n",
      "{'_id': ObjectId('64fa617bc82a94e0112264a5'), 'name': 'student02', 'code': 'code02'}\n",
      "{'_id': ObjectId('64fa617bc82a94e0112264a6'), 'name': 'student03', 'code': 'code03'}\n",
      "{'_id': ObjectId('64fa617bc82a94e0112264a7'), 'name': 'student04', 'code': 'code04'}\n",
      "{'_id': ObjectId('64fa617bc82a94e0112264a8'), 'name': 'student05', 'code': 'code05'}\n",
      "{'_id': 1, 'name': 'student00', 'code': 'code00'}\n",
      "{'_id': 2, 'name': 'student01', 'code': 'code01'}\n",
      "{'_id': 3, 'name': 'student02', 'code': 'code02'}\n",
      "{'_id': 4, 'name': 'student03', 'code': 'code03'}\n",
      "{'_id': 5, 'name': 'student04', 'code': 'code04'}\n",
      "{'_id': 6, 'name': 'student05', 'code': 'code05'}\n"
     ]
    }
   ],
   "source": [
    "#this will print out all the values under the key word, 'code'\n",
    "for x in new_col.find({'code': {'$gt': 'code'}}):\n",
    "    print(x)"
   ]
  },
  {
   "cell_type": "markdown",
   "metadata": {},
   "source": [
    "## Ascending Descending Order (Sort)"
   ]
  },
  {
   "cell_type": "code",
   "execution_count": 37,
   "metadata": {},
   "outputs": [
    {
     "name": "stdout",
     "output_type": "stream",
     "text": [
      "{'_id': ObjectId('64fa617ac82a94e0112264a2'), 'name': 'Dony', 'code': 'code11'}\n",
      "{'_id': ObjectId('64fa617bc82a94e0112264a3'), 'name': 'student00', 'code': 'code00'}\n",
      "{'_id': 1, 'name': 'student00', 'code': 'code00'}\n",
      "{'_id': ObjectId('64fa617bc82a94e0112264a4'), 'name': 'student01', 'code': 'code01'}\n",
      "{'_id': 2, 'name': 'student01', 'code': 'code01'}\n",
      "{'_id': ObjectId('64fa617bc82a94e0112264a5'), 'name': 'student02', 'code': 'code02'}\n",
      "{'_id': 3, 'name': 'student02', 'code': 'code02'}\n",
      "{'_id': ObjectId('64fa617bc82a94e0112264a6'), 'name': 'student03', 'code': 'code03'}\n",
      "{'_id': 4, 'name': 'student03', 'code': 'code03'}\n",
      "{'_id': ObjectId('64fa617bc82a94e0112264a7'), 'name': 'student04', 'code': 'code04'}\n",
      "{'_id': 5, 'name': 'student04', 'code': 'code04'}\n",
      "{'_id': ObjectId('64fa617bc82a94e0112264a8'), 'name': 'student05', 'code': 'code05'}\n",
      "{'_id': 6, 'name': 'student05', 'code': 'code05'}\n"
     ]
    }
   ],
   "source": [
    "#ascending order\n",
    "for x in new_col.find().sort('name'):\n",
    "    print(x)"
   ]
  },
  {
   "cell_type": "code",
   "execution_count": 38,
   "metadata": {},
   "outputs": [
    {
     "name": "stdout",
     "output_type": "stream",
     "text": [
      "{'_id': ObjectId('64fa617bc82a94e0112264a8'), 'name': 'student05', 'code': 'code05'}\n",
      "{'_id': 6, 'name': 'student05', 'code': 'code05'}\n",
      "{'_id': ObjectId('64fa617bc82a94e0112264a7'), 'name': 'student04', 'code': 'code04'}\n",
      "{'_id': 5, 'name': 'student04', 'code': 'code04'}\n",
      "{'_id': ObjectId('64fa617bc82a94e0112264a6'), 'name': 'student03', 'code': 'code03'}\n",
      "{'_id': 4, 'name': 'student03', 'code': 'code03'}\n",
      "{'_id': ObjectId('64fa617bc82a94e0112264a5'), 'name': 'student02', 'code': 'code02'}\n",
      "{'_id': 3, 'name': 'student02', 'code': 'code02'}\n",
      "{'_id': ObjectId('64fa617bc82a94e0112264a4'), 'name': 'student01', 'code': 'code01'}\n",
      "{'_id': 2, 'name': 'student01', 'code': 'code01'}\n",
      "{'_id': ObjectId('64fa617bc82a94e0112264a3'), 'name': 'student00', 'code': 'code00'}\n",
      "{'_id': 1, 'name': 'student00', 'code': 'code00'}\n",
      "{'_id': ObjectId('64fa617ac82a94e0112264a2'), 'name': 'Dony', 'code': 'code11'}\n"
     ]
    }
   ],
   "source": [
    "#descending order\n",
    "for x in new_col.find().sort('name', -1):\n",
    "    print(x)"
   ]
  },
  {
   "cell_type": "markdown",
   "metadata": {},
   "source": [
    "## Deleting Docs"
   ]
  },
  {
   "cell_type": "code",
   "execution_count": 39,
   "metadata": {},
   "outputs": [
    {
     "name": "stdout",
     "output_type": "stream",
     "text": [
      "{'_id': ObjectId('64fa617ac82a94e0112264a2'), 'name': 'Dony', 'code': 'code11'}\n",
      "{'_id': ObjectId('64fa617bc82a94e0112264a3'), 'name': 'student00', 'code': 'code00'}\n",
      "{'_id': ObjectId('64fa617bc82a94e0112264a5'), 'name': 'student02', 'code': 'code02'}\n",
      "{'_id': ObjectId('64fa617bc82a94e0112264a6'), 'name': 'student03', 'code': 'code03'}\n",
      "{'_id': ObjectId('64fa617bc82a94e0112264a7'), 'name': 'student04', 'code': 'code04'}\n",
      "{'_id': ObjectId('64fa617bc82a94e0112264a8'), 'name': 'student05', 'code': 'code05'}\n",
      "{'_id': 1, 'name': 'student00', 'code': 'code00'}\n",
      "{'_id': 2, 'name': 'student01', 'code': 'code01'}\n",
      "{'_id': 3, 'name': 'student02', 'code': 'code02'}\n",
      "{'_id': 4, 'name': 'student03', 'code': 'code03'}\n",
      "{'_id': 5, 'name': 'student04', 'code': 'code04'}\n",
      "{'_id': 6, 'name': 'student05', 'code': 'code05'}\n"
     ]
    }
   ],
   "source": [
    "#only the first occurance is delected\n",
    "new_col.delete_one({'code': 'code01'})\n",
    "for x in new_col.find():\n",
    "    print(x)"
   ]
  },
  {
   "cell_type": "code",
   "execution_count": 40,
   "metadata": {},
   "outputs": [
    {
     "name": "stdout",
     "output_type": "stream",
     "text": [
      "2 documents deleted from the dataBase\n"
     ]
    }
   ],
   "source": [
    "#delete all doc with\n",
    "x = new_col.delete_many({'code': {'$regex': '^code03'}})\n",
    "print(x.deleted_count, 'documents deleted from the dataBase')"
   ]
  },
  {
   "cell_type": "code",
   "execution_count": 41,
   "metadata": {},
   "outputs": [
    {
     "name": "stdout",
     "output_type": "stream",
     "text": [
      "{'_id': ObjectId('64fa617ac82a94e0112264a2'), 'name': 'Dony', 'code': 'code11'}\n",
      "{'_id': ObjectId('64fa617bc82a94e0112264a3'), 'name': 'student00', 'code': 'code00'}\n",
      "{'_id': ObjectId('64fa617bc82a94e0112264a5'), 'name': 'student02', 'code': 'code02'}\n",
      "{'_id': ObjectId('64fa617bc82a94e0112264a7'), 'name': 'student04', 'code': 'code04'}\n",
      "{'_id': ObjectId('64fa617bc82a94e0112264a8'), 'name': 'student05', 'code': 'code05'}\n",
      "{'_id': 1, 'name': 'student00', 'code': 'code00'}\n",
      "{'_id': 2, 'name': 'student01', 'code': 'code01'}\n",
      "{'_id': 3, 'name': 'student02', 'code': 'code02'}\n",
      "{'_id': 5, 'name': 'student04', 'code': 'code04'}\n",
      "{'_id': 6, 'name': 'student05', 'code': 'code05'}\n"
     ]
    }
   ],
   "source": [
    "for x in new_col.find():\n",
    "    print(x)"
   ]
  },
  {
   "cell_type": "code",
   "execution_count": 42,
   "metadata": {},
   "outputs": [
    {
     "name": "stdout",
     "output_type": "stream",
     "text": [
      "10 documents were deleted from the dataBase\n"
     ]
    }
   ],
   "source": [
    "print(new_col.delete_many({}).deleted_count, 'documents were deleted from the dataBase')\n",
    "\n",
    "for x in new_col.find():\n",
    "    print(x)"
   ]
  },
  {
   "cell_type": "markdown",
   "metadata": {},
   "source": [
    "## Drop method - deleting collection completely"
   ]
  },
  {
   "cell_type": "code",
   "execution_count": 43,
   "metadata": {},
   "outputs": [],
   "source": [
    "new_col.drop()"
   ]
  },
  {
   "cell_type": "markdown",
   "metadata": {},
   "source": [
    "## Updating the Collection"
   ]
  },
  {
   "cell_type": "code",
   "execution_count": 44,
   "metadata": {},
   "outputs": [
    {
     "name": "stdout",
     "output_type": "stream",
     "text": [
      "{'_id': 1, 'name': 'student00', 'code': 'code10'}\n",
      "{'_id': 2, 'name': 'student01', 'code': 'code01'}\n",
      "{'_id': 3, 'name': 'student02', 'code': 'code02'}\n",
      "{'_id': 4, 'name': 'student03', 'code': 'code03'}\n",
      "{'_id': 5, 'name': 'student04', 'code': 'code04'}\n",
      "{'_id': 6, 'name': 'student05', 'code': 'code05'}\n"
     ]
    }
   ],
   "source": [
    "new_col = new_db['students']\n",
    "\n",
    "list_of_students =[\n",
    "    {'_id': 1, 'name': 'student00', 'code': 'code00'},\n",
    "    {'_id': 2, 'name': 'student01', 'code': 'code01'},\n",
    "    {'_id': 3, 'name': 'student02', 'code': 'code02'},\n",
    "    {'_id': 4, 'name': 'student03', 'code': 'code03'},\n",
    "    {'_id': 5, 'name': 'student04', 'code': 'code04'},\n",
    "    {'_id': 6, 'name': 'student05', 'code': 'code05'}\n",
    "]\n",
    "\n",
    "adding_many = new_col.insert_many(list_of_student)\n",
    "\n",
    "new_q = {'code': 'code00'}\n",
    "new_vals = {'$set': {'code': 'code10'}}\n",
    "\n",
    "#update_one only updates the 1st occurance\n",
    "new_col.update_one(new_q, new_vals)\n",
    "\n",
    "for x in new_col.find():\n",
    "    print(x)"
   ]
  },
  {
   "cell_type": "markdown",
   "metadata": {},
   "source": [
    "## Display or select specific result - limit method"
   ]
  },
  {
   "cell_type": "code",
   "execution_count": 45,
   "metadata": {},
   "outputs": [
    {
     "name": "stdout",
     "output_type": "stream",
     "text": [
      "{'_id': 1, 'name': 'student00', 'code': 'code10'}\n",
      "{'_id': 2, 'name': 'student01', 'code': 'code01'}\n",
      "{'_id': 3, 'name': 'student02', 'code': 'code02'}\n"
     ]
    }
   ],
   "source": [
    "result_filter = new_col.find().limit(3)\n",
    "#3 is the number of documents to display\n",
    "\n",
    "for x in result_filter:\n",
    "    print(x)"
   ]
  }
 ],
 "metadata": {
  "kernelspec": {
   "display_name": "Python 3",
   "language": "python",
   "name": "python3"
  },
  "language_info": {
   "codemirror_mode": {
    "name": "ipython",
    "version": 3
   },
   "file_extension": ".py",
   "mimetype": "text/x-python",
   "name": "python",
   "nbconvert_exporter": "python",
   "pygments_lexer": "ipython3",
   "version": "3.11.2"
  },
  "orig_nbformat": 4
 },
 "nbformat": 4,
 "nbformat_minor": 2
}
