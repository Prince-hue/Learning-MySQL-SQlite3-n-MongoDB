{
 "cells": [
  {
   "cell_type": "markdown",
   "metadata": {},
   "source": [
    "# SQLite 3 Tutorials"
   ]
  },
  {
   "cell_type": "code",
   "execution_count": 1,
   "metadata": {},
   "outputs": [],
   "source": [
    "import sqlite3\n",
    "#creating a connection called data_testing with db extension\n",
    "new_connection = sqlite3.connect('data_testing.db')"
   ]
  },
  {
   "cell_type": "code",
   "execution_count": 2,
   "metadata": {},
   "outputs": [
    {
     "data": {
      "text/plain": [
       "sqlite3.Connection"
      ]
     },
     "execution_count": 2,
     "metadata": {},
     "output_type": "execute_result"
    }
   ],
   "source": [
    "type(new_connection)"
   ]
  },
  {
   "cell_type": "code",
   "execution_count": 3,
   "metadata": {},
   "outputs": [
    {
     "name": "stdout",
     "output_type": "stream",
     "text": [
      "<class 'sqlite3.Connection'>\n"
     ]
    }
   ],
   "source": [
    "print(type(new_connection))"
   ]
  },
  {
   "cell_type": "markdown",
   "metadata": {},
   "source": [
    "## Creating a cursor"
   ]
  },
  {
   "cell_type": "code",
   "execution_count": 4,
   "metadata": {},
   "outputs": [
    {
     "name": "stdout",
     "output_type": "stream",
     "text": [
      "<class 'sqlite3.Cursor'>\n"
     ]
    }
   ],
   "source": [
    "new_cursor = new_connection.cursor()\n",
    "print(type(new_cursor))"
   ]
  },
  {
   "cell_type": "markdown",
   "metadata": {},
   "source": [
    "## Select statement to get date and time"
   ]
  },
  {
   "cell_type": "code",
   "execution_count": 5,
   "metadata": {},
   "outputs": [
    {
     "data": {
      "text/plain": [
       "<sqlite3.Cursor at 0x22bddc7b640>"
      ]
     },
     "execution_count": 5,
     "metadata": {},
     "output_type": "execute_result"
    }
   ],
   "source": [
    "new_sql = \"SELECT datetime('now', 'localtime');\"\n",
    "new_cursor.execute(new_sql)"
   ]
  },
  {
   "cell_type": "code",
   "execution_count": 6,
   "metadata": {},
   "outputs": [
    {
     "data": {
      "text/plain": [
       "[('2023-09-04 20:54:35',)]"
      ]
     },
     "execution_count": 6,
     "metadata": {},
     "output_type": "execute_result"
    }
   ],
   "source": [
    "new_cursor.fetchall()"
   ]
  },
  {
   "cell_type": "code",
   "execution_count": 7,
   "metadata": {},
   "outputs": [
    {
     "name": "stdout",
     "output_type": "stream",
     "text": [
      "2023-09-04 20:54:40\n"
     ]
    }
   ],
   "source": [
    "new_dtime = new_cursor.execute(new_sql).fetchone()[0]\n",
    "print(new_dtime)"
   ]
  },
  {
   "cell_type": "markdown",
   "metadata": {},
   "source": [
    "## Close connection"
   ]
  },
  {
   "cell_type": "code",
   "execution_count": 8,
   "metadata": {},
   "outputs": [],
   "source": [
    "new_connection.close()"
   ]
  },
  {
   "cell_type": "markdown",
   "metadata": {},
   "source": [
    "## Summary of eveything done so far"
   ]
  },
  {
   "cell_type": "code",
   "execution_count": 9,
   "metadata": {},
   "outputs": [
    {
     "name": "stdout",
     "output_type": "stream",
     "text": [
      "2023-09-04 20:54:47\n"
     ]
    }
   ],
   "source": [
    "with sqlite3.connect('data_testing.db') as new_connection:\n",
    "    new_cursor = new_connection.cursor()\n",
    "    new_sql = \"SELECT datetime('now', 'localtime');\"\n",
    "    new_dtime = new_cursor.execute(new_sql).fetchone()[0]\n",
    "    \n",
    "print(new_dtime)"
   ]
  },
  {
   "cell_type": "markdown",
   "metadata": {},
   "source": [
    "## Create table with values"
   ]
  },
  {
   "cell_type": "code",
   "execution_count": 10,
   "metadata": {},
   "outputs": [
    {
     "ename": "OperationalError",
     "evalue": "table clients already exists",
     "output_type": "error",
     "traceback": [
      "\u001b[1;31m---------------------------------------------------------------------------\u001b[0m",
      "\u001b[1;31mOperationalError\u001b[0m                          Traceback (most recent call last)",
      "Cell \u001b[1;32mIn[10], line 3\u001b[0m\n\u001b[0;32m      1\u001b[0m \u001b[39m#the name is a text\u001b[39;00m\n\u001b[0;32m      2\u001b[0m \u001b[39m#the number is an integer\u001b[39;00m\n\u001b[1;32m----> 3\u001b[0m new_cursor\u001b[39m.\u001b[39;49mexecute(\u001b[39m'\u001b[39;49m\u001b[39mCREATE TABLE clients(Name TEXT, Number INT);\u001b[39;49m\u001b[39m'\u001b[39;49m)\n\u001b[0;32m      5\u001b[0m \u001b[39m#insert enters values into the table\u001b[39;00m\n\u001b[0;32m      6\u001b[0m \u001b[39m#values are Danny and 2023 ie 2 columns\u001b[39;00m\n\u001b[0;32m      7\u001b[0m new_cursor\u001b[39m.\u001b[39mexecute(\u001b[39m\"\u001b[39m\u001b[39mINSERT INTO clients VALUES(\u001b[39m\u001b[39m'\u001b[39m\u001b[39mDany\u001b[39m\u001b[39m'\u001b[39m\u001b[39m, 2030)\u001b[39m\u001b[39m\"\u001b[39m)\n",
      "\u001b[1;31mOperationalError\u001b[0m: table clients already exists"
     ]
    }
   ],
   "source": [
    "#the name is a text\n",
    "#the number is an integer\n",
    "new_cursor.execute('CREATE TABLE clients(Name TEXT, Number INT);')\n",
    "\n",
    "#insert enters values into the table\n",
    "#values are Danny and 2023 ie 2 columns\n",
    "new_cursor.execute(\"INSERT INTO clients VALUES('Dany', 2030)\")\n",
    "\n",
    "#commit is used to make changes to our dataBase\n",
    "new_connection.commit()\n",
    "\n",
    "#closing after previous operations\n",
    "new_connection.close()"
   ]
  },
  {
   "cell_type": "markdown",
   "metadata": {},
   "source": [
    "Fetching results from the dataBase"
   ]
  },
  {
   "cell_type": "code",
   "execution_count": 11,
   "metadata": {},
   "outputs": [
    {
     "data": {
      "text/plain": [
       "<sqlite3.Cursor at 0x22bde212d40>"
      ]
     },
     "execution_count": 11,
     "metadata": {},
     "output_type": "execute_result"
    }
   ],
   "source": [
    "new_connection = sqlite3.connect('data_testing.db')\n",
    "new_cursor = new_connection.cursor()\n",
    "\n",
    "new_cursor.execute('SELECT * FROM clients;')"
   ]
  },
  {
   "cell_type": "code",
   "execution_count": 12,
   "metadata": {},
   "outputs": [
    {
     "data": {
      "text/plain": [
       "('Dany', 2030)"
      ]
     },
     "execution_count": 12,
     "metadata": {},
     "output_type": "execute_result"
    }
   ],
   "source": [
    "new_cursor.fetchone()"
   ]
  },
  {
   "cell_type": "markdown",
   "metadata": {},
   "source": [
    "## Delete table"
   ]
  },
  {
   "cell_type": "code",
   "execution_count": 13,
   "metadata": {},
   "outputs": [
    {
     "data": {
      "text/plain": [
       "<sqlite3.Cursor at 0x22bde212d40>"
      ]
     },
     "execution_count": 13,
     "metadata": {},
     "output_type": "execute_result"
    }
   ],
   "source": [
    "new_cursor.execute('DROP TABLE clients;')"
   ]
  },
  {
   "cell_type": "code",
   "execution_count": 14,
   "metadata": {},
   "outputs": [],
   "source": [
    "new_connection.commit()\n",
    "new_connection.close()"
   ]
  },
  {
   "cell_type": "markdown",
   "metadata": {},
   "source": [
    "## Full Program to fetch all data_testing "
   ]
  },
  {
   "cell_type": "code",
   "execution_count": 18,
   "metadata": {},
   "outputs": [
    {
     "name": "stdout",
     "output_type": "stream",
     "text": [
      "('Messi', 30)\n",
      "('Salah', 11)\n",
      "('Haland', 9)\n"
     ]
    }
   ],
   "source": [
    "import sqlite3\n",
    "\n",
    "new_values = (\n",
    "    ('Ronaldo', 7),\n",
    "    ('Messi', 30),\n",
    "    ('Salah', 11),\n",
    "    ('Haland', 9)\n",
    ")\n",
    "\n",
    "with sqlite3.connect('data_testing.db') as new_connection:\n",
    "    new_cursor = new_connection.cursor()\n",
    "    new_cursor.execute('DROP TABLE IF EXISTS clients')\n",
    "    new_cursor.execute('CREATE TABLE clients(Name TEXT, Number INT);')\n",
    "    new_cursor.executemany('INSERT INTO clients VALUES(?, ?)', new_values)\n",
    "    new_cursor.execute('SELECT Name, Number FROM clients WHERE Number > 7;')\n",
    "    \n",
    "    for x in new_cursor.fetchall():\n",
    "        print(x)"
   ]
  },
  {
   "cell_type": "markdown",
   "metadata": {},
   "source": [
    "They are many libraries in Python\n",
    "1. cx_oracle: Oracle\n",
    "2. psycopg2: PostgreSQL\n",
    "3. pymongo: MongoDB\n",
    "4. mysql.connector and pymysql: MySQL\n",
    "5. cassandra-driver: Cassandra"
   ]
  }
 ],
 "metadata": {
  "kernelspec": {
   "display_name": "Python 3",
   "language": "python",
   "name": "python3"
  },
  "language_info": {
   "codemirror_mode": {
    "name": "ipython",
    "version": 3
   },
   "file_extension": ".py",
   "mimetype": "text/x-python",
   "name": "python",
   "nbconvert_exporter": "python",
   "pygments_lexer": "ipython3",
   "version": "3.11.2"
  },
  "orig_nbformat": 4
 },
 "nbformat": 4,
 "nbformat_minor": 2
}
