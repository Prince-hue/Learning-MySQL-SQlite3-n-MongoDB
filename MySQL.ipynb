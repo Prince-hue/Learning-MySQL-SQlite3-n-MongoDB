{
 "cells": [
  {
   "cell_type": "markdown",
   "metadata": {},
   "source": [
    "# MySQL Tutorial"
   ]
  },
  {
   "cell_type": "code",
   "execution_count": 5,
   "metadata": {},
   "outputs": [],
   "source": [
    "import mysql.connector"
   ]
  },
  {
   "cell_type": "code",
   "execution_count": 6,
   "metadata": {},
   "outputs": [
    {
     "name": "stdout",
     "output_type": "stream",
     "text": [
      "<mysql.connector.connection_cext.CMySQLConnection object at 0x000001E6E6663110>\n"
     ]
    }
   ],
   "source": [
    "new_db = mysql.connector.connect(\n",
    "    host = 'localhost',\n",
    "    user = 'root',\n",
    "    password = 'gateway666'\n",
    ")\n",
    "\n",
    "print(new_db)"
   ]
  },
  {
   "cell_type": "markdown",
   "metadata": {},
   "source": [
    "## Creating a Database"
   ]
  },
  {
   "cell_type": "code",
   "execution_count": null,
   "metadata": {},
   "outputs": [],
   "source": [
    "#creating a cursor function\n",
    "#it helps to create and fetch data from the database\n",
    "new_cursor = new_db.cursor()\n",
    "\n",
    "#create database call newData using the execute function\n",
    "new_cursor.execute('CREATE DATABASE newData')"
   ]
  },
  {
   "cell_type": "markdown",
   "metadata": {},
   "source": [
    "#### method 1 - using MySQL Workbench"
   ]
  },
  {
   "cell_type": "markdown",
   "metadata": {},
   "source": [
    "#### method 2 - checking if dataBase exist"
   ]
  },
  {
   "cell_type": "code",
   "execution_count": 10,
   "metadata": {},
   "outputs": [
    {
     "name": "stdout",
     "output_type": "stream",
     "text": [
      "('information_schema',)\n",
      "('mysql',)\n",
      "('newdata',)\n",
      "('performance_schema',)\n",
      "('sakila',)\n",
      "('sys',)\n",
      "('world',)\n"
     ]
    }
   ],
   "source": [
    "#checking if dataBase exist or not\n",
    "new_cursor.execute('SHOW DATABASES')\n",
    "for n in new_cursor:\n",
    "    print(n) "
   ]
  },
  {
   "cell_type": "markdown",
   "metadata": {},
   "source": [
    "#### method 3 - checking if dataBase exist"
   ]
  },
  {
   "cell_type": "code",
   "execution_count": 12,
   "metadata": {},
   "outputs": [
    {
     "name": "stdout",
     "output_type": "stream",
     "text": [
      "<mysql.connector.connection_cext.CMySQLConnection object at 0x000001E6E6F966D0>\n"
     ]
    }
   ],
   "source": [
    "new_db = mysql.connector.connect(\n",
    "    host = 'localhost',\n",
    "    user = 'root',\n",
    "    password = 'gateway666',\n",
    "    database = 'newData'\n",
    ")\n",
    "\n",
    "print(new_db)"
   ]
  },
  {
   "cell_type": "markdown",
   "metadata": {},
   "source": [
    "## Creating Tables and Showing Data"
   ]
  },
  {
   "cell_type": "code",
   "execution_count": 17,
   "metadata": {},
   "outputs": [],
   "source": [
    "import mysql.connector\n",
    "\n",
    "new_db = mysql.connector.connect(\n",
    "    host = 'localhost',\n",
    "    user = 'root',\n",
    "    password = 'gateway666',\n",
    "    database = 'newdata'\n",
    ")\n",
    "\n",
    "new_cursor = new_db.cursor()\n",
    "\n",
    "#name of table is students \n",
    "#table has two columns, name and code\n",
    "#VARCHAR is one of the many data types in MySQL\n",
    "new_cursor.execute('CREATE TABLE students (name VARCHAR(255), code VARCHAR(255))')"
   ]
  },
  {
   "cell_type": "markdown",
   "metadata": {},
   "source": [
    "#### List all tables in newData database"
   ]
  },
  {
   "cell_type": "code",
   "execution_count": 18,
   "metadata": {},
   "outputs": [
    {
     "name": "stdout",
     "output_type": "stream",
     "text": [
      "('students',)\n"
     ]
    }
   ],
   "source": [
    "new_cursor.execute('SHOW TABLES')\n",
    "for x in new_cursor:\n",
    "    print(x)"
   ]
  },
  {
   "cell_type": "markdown",
   "metadata": {},
   "source": [
    "There is only one table shown above and it is called 'students'"
   ]
  },
  {
   "cell_type": "markdown",
   "metadata": {},
   "source": [
    "## Add PRIMARY KEY when creating table"
   ]
  },
  {
   "cell_type": "code",
   "execution_count": 19,
   "metadata": {},
   "outputs": [],
   "source": [
    "#The primary key is an integer which auto increase from 1 to infinity\n",
    "new_cursor.execute('CREATE TABLE clients (id INT AUTO_INCREMENT PRIMARY KEY, name VARCHAR(255), code VARCHAR(255))')"
   ]
  },
  {
   "cell_type": "markdown",
   "metadata": {},
   "source": [
    "## Add PRIMARY KEY if table already exists"
   ]
  },
  {
   "cell_type": "code",
   "execution_count": 20,
   "metadata": {},
   "outputs": [],
   "source": [
    "new_cursor.execute('ALTER TABLE students ADD COLUMN id INT AUTO_INCREMENT PRIMARY KEY')"
   ]
  },
  {
   "cell_type": "markdown",
   "metadata": {},
   "source": [
    "## Inserting data into tables"
   ]
  },
  {
   "cell_type": "code",
   "execution_count": 24,
   "metadata": {},
   "outputs": [
    {
     "name": "stdout",
     "output_type": "stream",
     "text": [
      "1 new record inserted\n"
     ]
    }
   ],
   "source": [
    "new_sql = 'INSERT INTO students (name, code) VALUES (%s, %s)'\n",
    "#(%s, %s) are placeholders\n",
    "new_vals = ('Ronaldo', 'CODE12')\n",
    "\n",
    "new_cursor.execute(new_sql, new_vals)\n",
    "#commit allows changes to be made\n",
    "new_db.commit()\n",
    "\n",
    "print(new_cursor.rowcount, 'new record inserted')"
   ]
  },
  {
   "cell_type": "markdown",
   "metadata": {},
   "source": [
    "## Inserting many records into table"
   ]
  },
  {
   "cell_type": "code",
   "execution_count": 25,
   "metadata": {},
   "outputs": [
    {
     "name": "stdout",
     "output_type": "stream",
     "text": [
      "4 records inserted\n"
     ]
    }
   ],
   "source": [
    "new_vals = (\n",
    "    ('Messi', 'CODE10'),\n",
    "    ('Pogba', 'CODE06'),\n",
    "    ('Salah', 'CODE11'),\n",
    "    ('Someone', 'CODE110')\n",
    ")\n",
    "\n",
    "new_cursor.executemany(new_sql, new_vals)\n",
    "new_db.commit()\n",
    "print(new_cursor.rowcount, 'records inserted')"
   ]
  },
  {
   "cell_type": "markdown",
   "metadata": {},
   "source": [
    "## Select Table's data"
   ]
  },
  {
   "cell_type": "code",
   "execution_count": 26,
   "metadata": {},
   "outputs": [
    {
     "name": "stdout",
     "output_type": "stream",
     "text": [
      "('Ronaldo', 'CODE12', 1)\n",
      "('Messi', 'CODE10', 2)\n",
      "('Pogba', 'CODE06', 3)\n",
      "('Salah', 'CODE11', 4)\n",
      "('Someone', 'CODE110', 5)\n"
     ]
    }
   ],
   "source": [
    "#the asteriks means all, so select all\n",
    "new_cursor.execute('SELECT * FROM students')\n",
    "new_data = new_cursor.fetchall()\n",
    "\n",
    "for x in new_data:\n",
    "    print(x)"
   ]
  },
  {
   "cell_type": "markdown",
   "metadata": {},
   "source": [
    "## Select data from columns"
   ]
  },
  {
   "cell_type": "code",
   "execution_count": 27,
   "metadata": {},
   "outputs": [
    {
     "name": "stdout",
     "output_type": "stream",
     "text": [
      "('Ronaldo', 'CODE12')\n",
      "('Messi', 'CODE10')\n",
      "('Pogba', 'CODE06')\n",
      "('Salah', 'CODE11')\n",
      "('Someone', 'CODE110')\n"
     ]
    }
   ],
   "source": [
    "#select name and code from database name students\n",
    "new_cursor.execute('SELECT name, code FROM students')\n",
    "new_data = new_cursor.fetchall()\n",
    "\n",
    "for x in new_data:\n",
    "    print(x)"
   ]
  },
  {
   "cell_type": "code",
   "execution_count": 28,
   "metadata": {},
   "outputs": [
    {
     "name": "stdout",
     "output_type": "stream",
     "text": [
      "('Ronaldo',)\n",
      "('Messi',)\n",
      "('Pogba',)\n",
      "('Salah',)\n",
      "('Someone',)\n"
     ]
    }
   ],
   "source": [
    "#select name from database name students\n",
    "new_cursor.execute('SELECT name FROM students')\n",
    "new_data = new_cursor.fetchall()\n",
    "\n",
    "for x in new_data:\n",
    "    print(x)"
   ]
  },
  {
   "cell_type": "code",
   "execution_count": 29,
   "metadata": {},
   "outputs": [
    {
     "name": "stdout",
     "output_type": "stream",
     "text": [
      "[('Ronaldo',), ('Messi',), ('Pogba',), ('Salah',), ('Someone',)]\n"
     ]
    }
   ],
   "source": [
    "print(new_data)"
   ]
  },
  {
   "cell_type": "markdown",
   "metadata": {},
   "source": [
    "## Select only a single row"
   ]
  },
  {
   "cell_type": "code",
   "execution_count": 30,
   "metadata": {},
   "outputs": [
    {
     "name": "stdout",
     "output_type": "stream",
     "text": [
      "('Ronaldo', 'CODE12', 1)\n"
     ]
    }
   ],
   "source": [
    "new_cursor.execute('SELECT * FROM students')\n",
    "#fetches the first record in the student table\n",
    "new_data = new_cursor.fetchone()\n",
    "print(new_data)"
   ]
  },
  {
   "cell_type": "markdown",
   "metadata": {},
   "source": [
    "## Filter the result"
   ]
  },
  {
   "cell_type": "code",
   "execution_count": 37,
   "metadata": {},
   "outputs": [
    {
     "name": "stdout",
     "output_type": "stream",
     "text": [
      "('Ronaldo', 'CODE12', 1)\n"
     ]
    }
   ],
   "source": [
    "#we want to select only records that have Ronaldo \n",
    "#as a value in the name column\n",
    "new_db = mysql.connector.connect(\n",
    "    host = 'localhost',\n",
    "    user = 'root',\n",
    "    password = 'gateway666',\n",
    "    database = 'newdata'\n",
    ")\n",
    "\n",
    "new_cursor = new_db.cursor()\n",
    "\n",
    "#filter name\n",
    "new_sql = \"SELECT * FROM students WHERE name = 'Ronaldo'\"\n",
    "new_cursor.execute(new_sql)\n",
    "new_data = new_cursor.fetchall()\n",
    "\n",
    "for x in new_data:\n",
    "    print(x)"
   ]
  },
  {
   "cell_type": "code",
   "execution_count": 38,
   "metadata": {},
   "outputs": [
    {
     "name": "stdout",
     "output_type": "stream",
     "text": [
      "('Pogba', 'CODE06', 3)\n"
     ]
    }
   ],
   "source": [
    "#filter code\n",
    "new_sql = \"SELECT * FROM students WHERE code = 'CODE06'\"\n",
    "new_cursor.execute(new_sql)\n",
    "new_data = new_cursor.fetchall()\n",
    "\n",
    "for x in new_data:\n",
    "    print(x)"
   ]
  },
  {
   "cell_type": "markdown",
   "metadata": {},
   "source": [
    "## Wildcard characters"
   ]
  },
  {
   "cell_type": "code",
   "execution_count": 39,
   "metadata": {},
   "outputs": [
    {
     "name": "stdout",
     "output_type": "stream",
     "text": [
      "('Messi', 'CODE10', 2)\n"
     ]
    }
   ],
   "source": [
    "#filter code\n",
    "new_sql = \"SELECT * FROM students WHERE name LIKE '%messi%'\"\n",
    "new_cursor.execute(new_sql)\n",
    "new_data = new_cursor.fetchall()\n",
    "\n",
    "for x in new_data:\n",
    "    print(x)"
   ]
  },
  {
   "cell_type": "markdown",
   "metadata": {},
   "source": [
    "## Sorting results"
   ]
  },
  {
   "cell_type": "code",
   "execution_count": 40,
   "metadata": {},
   "outputs": [
    {
     "name": "stdout",
     "output_type": "stream",
     "text": [
      "('Messi', 'CODE10', 2)\n",
      "('Pogba', 'CODE06', 3)\n",
      "('Ronaldo', 'CODE12', 1)\n",
      "('Salah', 'CODE11', 4)\n",
      "('Someone', 'CODE110', 5)\n"
     ]
    }
   ],
   "source": [
    "#ascending order of names\n",
    "new_sql = 'Select * FROM students ORDER BY name'\n",
    "new_cursor.execute(new_sql)\n",
    "new_data = new_cursor.fetchall()\n",
    "\n",
    "for x in new_data:\n",
    "    print(x)"
   ]
  },
  {
   "cell_type": "code",
   "execution_count": 42,
   "metadata": {},
   "outputs": [
    {
     "name": "stdout",
     "output_type": "stream",
     "text": [
      "('Ronaldo', 'CODE12', 1)\n",
      "('Someone', 'CODE110', 5)\n",
      "('Salah', 'CODE11', 4)\n",
      "('Messi', 'CODE10', 2)\n",
      "('Pogba', 'CODE06', 3)\n"
     ]
    }
   ],
   "source": [
    "#descending order of codes\n",
    "new_sql = 'Select * FROM students ORDER BY code DESC'\n",
    "new_cursor.execute(new_sql)\n",
    "new_data = new_cursor.fetchall()\n",
    "\n",
    "for x in new_data:\n",
    "    print(x)"
   ]
  },
  {
   "cell_type": "markdown",
   "metadata": {},
   "source": [
    "## Delect records"
   ]
  },
  {
   "cell_type": "code",
   "execution_count": 48,
   "metadata": {},
   "outputs": [
    {
     "name": "stdout",
     "output_type": "stream",
     "text": [
      "1 records deleted from newdata\n"
     ]
    }
   ],
   "source": [
    "new_sql = 'DELETE FROM students WHERE name = %s'\n",
    "name = ('Messi',)\n",
    "#this format instead of inserting name into new_sql var \n",
    "#prevents injections in python\n",
    "\n",
    "new_cursor.execute(new_sql, name)\n",
    "new_db.commit()\n",
    "\n",
    "print(new_cursor.rowcount, 'records deleted from newdata')"
   ]
  },
  {
   "cell_type": "markdown",
   "metadata": {},
   "source": [
    "## Deleting table"
   ]
  },
  {
   "cell_type": "code",
   "execution_count": 50,
   "metadata": {},
   "outputs": [],
   "source": [
    "#the table name clients is deleted\n",
    "#use if exit statement to prevent getting an error should\n",
    "#the code be run twice\n",
    "\n",
    "new_sql = 'DROP TABLE IF EXISTS clients'\n",
    "new_cursor.execute(new_sql)"
   ]
  },
  {
   "cell_type": "markdown",
   "metadata": {},
   "source": [
    "## Updating table"
   ]
  },
  {
   "cell_type": "code",
   "execution_count": 59,
   "metadata": {},
   "outputs": [
    {
     "name": "stdout",
     "output_type": "stream",
     "text": [
      "1 records changed in students table!\n"
     ]
    }
   ],
   "source": [
    "new_sql = \"UPDATE students SET code = %s WHERE code = %s\"\n",
    "new_vals = ('CODE12', 'CODE07')\n",
    "new_cursor.execute(new_sql, new_vals)\n",
    "new_db.commit()\n",
    "print(new_cursor.rowcount, 'records changed in students table!')"
   ]
  },
  {
   "cell_type": "markdown",
   "metadata": {},
   "source": [
    "## Limit the records"
   ]
  },
  {
   "cell_type": "code",
   "execution_count": 60,
   "metadata": {},
   "outputs": [
    {
     "name": "stdout",
     "output_type": "stream",
     "text": [
      "('Ronaldo', 'CODE12', 1)\n",
      "('Pogba', 'CODE06', 3)\n",
      "('Salah', 'CODE11', 4)\n",
      "('Someone', 'CODE110', 5)\n"
     ]
    }
   ],
   "source": [
    "#select first 4 records from the batabase\n",
    "new_sql = 'SELECT * FROM students LIMIT 4'\n",
    "new_cursor.execute(new_sql)\n",
    "\n",
    "new_data = new_cursor.fetchall()\n",
    "for x in new_data:\n",
    "    print(x)"
   ]
  },
  {
   "cell_type": "code",
   "execution_count": 61,
   "metadata": {},
   "outputs": [
    {
     "name": "stdout",
     "output_type": "stream",
     "text": [
      "('Salah', 'CODE11', 4)\n",
      "('Someone', 'CODE110', 5)\n"
     ]
    }
   ],
   "source": [
    "# select 2 records after the first 2 records\n",
    "new_sql = 'SELECT * FROM students LIMIT 2 OFFSET 2'\n",
    "new_cursor.execute(new_sql)\n",
    "\n",
    "new_data = new_cursor.fetchall()\n",
    "for x in new_data:\n",
    "    print(x)"
   ]
  }
 ],
 "metadata": {
  "kernelspec": {
   "display_name": "Python 3",
   "language": "python",
   "name": "python3"
  },
  "language_info": {
   "codemirror_mode": {
    "name": "ipython",
    "version": 3
   },
   "file_extension": ".py",
   "mimetype": "text/x-python",
   "name": "python",
   "nbconvert_exporter": "python",
   "pygments_lexer": "ipython3",
   "version": "3.11.2"
  },
  "orig_nbformat": 4
 },
 "nbformat": 4,
 "nbformat_minor": 2
}
